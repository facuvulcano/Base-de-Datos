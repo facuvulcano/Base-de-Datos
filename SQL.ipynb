{
 "cells": [
  {
   "cell_type": "markdown",
   "metadata": {},
   "source": [
    "# <font color=red>SQL - Structured Query Language</font>"
   ]
  },
  {
   "cell_type": "markdown",
   "metadata": {},
   "source": [
    "SQL (Structured Query Language) es un lenguaje de programación utilizado principalmente para gestionar y manipular bases de datos relacionales. Fue diseñado para interactuar con sistemas de gestión de bases de datos (DBMS) como MySQL, PostgreSQL, SQL Server, Oracle Database, entre otros. SQL permite a los usuarios realizar diversas operaciones sobre los datos almacenados en una base de datos, como consultar, actualizar, insertar y eliminar datos.\n",
    "\n",
    "### <font color=yellow>Características Principales de SQL</font>\n",
    "\n",
    "**Declarativo:** A diferencia de otros lenguajes de programación que son imperativos (especifican cómo se deben realizar las tareas), SQL es un lenguaje declarativo. En SQL, el usuario especifica qué desea obtener sin preocuparse por cómo se obtendrán esos resultados.\n",
    "\n",
    "**Orientado a Sets:** SQL opera principalmente en conjuntos de datos. Esto significa que puedes manipular varias filas de datos al mismo tiempo en lugar de trabajar con datos fila por fila.\n",
    "\n",
    "**Estándar:** SQL es un estándar internacionalmente reconocido (ISO/IEC), aunque hay variaciones específicas de cada sistema de base de datos.\n",
    "\n",
    "### <font color=yellow>Componentes de SQL</font>\n",
    "\n",
    "SQL se compone de varios sublenguajes, cada uno diseñado para diferentes tipos de operaciones:\n",
    "\n",
    "1- **DDL (Data Definition Language):** Se utiliza para definir y gestionar la estructura de la base de datos. Incluye comandos como:\n",
    "\n",
    "- CREATE: Crea una nueva base de datos, tabla, vista, índice, etc.\n",
    "- ALTER: Modifica la estructura de una base de datos existente, como añadir, modificar o eliminar columnas en una tabla.\n",
    "- DROP: Elimina una base de datos, tabla, vista, índice, etc.\n",
    "- TRUNCATE: Borra todos los registros de una tabla sin eliminar la estructura de la tabla.\n",
    "\n",
    "2- **DML (Data Manipulation Language):** Se utiliza para manipular los datos en una base de datos. Incluye comandos como:\n",
    "\n",
    "- SELECT: Recupera datos de una o más tablas.\n",
    "- INSERT: Inserta nuevos registros en una tabla.\n",
    "- UPDATE: Modifica registros existentes en una tabla.\n",
    "- DELETE: Elimina registros existentes de una tabla.\n",
    "\n",
    "3- **DCL (Data Control Language):** Se utiliza para controlar el acceso a los datos en una base de datos. Incluye comandos como:\n",
    "\n",
    "- GRANT: Otorga permisos de acceso a los usuarios.\n",
    "- REVOKE: Revoca permisos de acceso a los usuarios.\n",
    "\n",
    "4- **TCL (Transaction Control Language):** Se utiliza para gestionar transacciones en una base de datos. Incluye comandos como:\n",
    "\n",
    "- COMMIT: Guarda todos los cambios realizados en una transacción.\n",
    "- ROLLBACK: Revierte todos los cambios realizados en una transacción.\n",
    "- SAVEPOINT: Establece un punto de guardado dentro de una transacción para permitir un rollback parcial.\n",
    "\n",
    "### <font color=yellow>Funcionalidades Avanzadas</font>\n",
    "\n",
    "1- Joins: SQL permite combinar datos de múltiples tablas basándose en relaciones entre ellas. Hay varios tipos de joins:\n",
    "\n",
    "- **INNER JOIN:** Devuelve solo las filas que tienen coincidencias en ambas tablas.\n",
    "- **LEFT JOIN (o LEFT OUTER JOIN):** Devuelve todas las filas de la tabla izquierda y las filas coincidentes de la tabla derecha.\n",
    "- **RIGHT JOIN (o RIGHT OUTER JOIN):** Devuelve todas las filas de la tabla derecha y las filas coincidentes de la tabla izquierda.\n",
    "- **FULL JOIN (o FULL OUTER JOIN):** Devuelve filas cuando hay una coincidencia en una de las tablas.\n",
    "\n",
    "2- Subconsultas: SQL permite anidar consultas dentro de otras consultas para crear consultas más complejas y detalladas.\n",
    "\n",
    "3- Funciones Agregadas: SQL proporciona funciones como SUM(), COUNT(), AVG(), MIN(), y MAX() para realizar cálculos en conjuntos de datos.\n",
    "\n",
    "4- Índices: SQL permite crear índices en columnas de tablas para mejorar la velocidad de recuperación de datos.\n",
    "\n",
    "5- Triggers: Son procedimientos almacenados que se ejecutan automáticamente en respuesta a ciertos eventos en una tabla o vista (como INSERT, UPDATE o DELETE).\n",
    "\n",
    "6- Views: Son consultas almacenadas que se pueden tratar como tablas virtuales. Las vistas permiten simplificar consultas complejas y proteger datos sensibles mediante la abstracción."
   ]
  },
  {
   "cell_type": "markdown",
   "metadata": {},
   "source": [
    "### Manipulacion de Datos en SQL\n",
    "\n"
   ]
  }
 ],
 "metadata": {
  "language_info": {
   "name": "python"
  }
 },
 "nbformat": 4,
 "nbformat_minor": 2
}
